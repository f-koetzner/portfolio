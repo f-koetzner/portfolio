{
 "cells": [
  {
   "cell_type": "markdown",
   "metadata": {},
   "source": [
    "# Kaggle: MNIST Digit Recognizer"
   ]
  },
  {
   "cell_type": "markdown",
   "metadata": {},
   "source": [
    "## A ResNet inspired approach"
   ]
  },
  {
   "cell_type": "markdown",
   "metadata": {},
   "source": [
    "This notebook creates a submission to the [Kaggle](https://www.kaggle.com/) [Digit Recognizer](https://www.kaggle.com/c/digit-recognizer) competition. Kaggle provides a training set with 42,000 MNIST digit images and evaluates a submission on the 28,000 images in the test set. For my submission I train a residual neural network (ResNet) similar to the one provided in the book \"Hands-On Machine Learning with Scikit-Learn, Keras & TensorFlow\" by Aurélien Géron (p. 478). Using data augmentation and an Adam optimizer, this model achieves a 99.47% accuracy on the unseen test set."
   ]
  },
  {
   "cell_type": "code",
   "execution_count": 1,
   "metadata": {},
   "outputs": [],
   "source": [
    "import pandas as pd\n",
    "import numpy as np\n",
    "import matplotlib.pyplot as plt\n",
    "import tensorflow as tf\n",
    "\n",
    "%matplotlib inline"
   ]
  },
  {
   "cell_type": "code",
   "execution_count": 2,
   "metadata": {},
   "outputs": [
    {
     "name": "stdout",
     "output_type": "stream",
     "text": [
      "pandas: 1.1.4\n",
      "numpy: 1.18.5\n",
      "tensorflow: 2.3.1\n"
     ]
    }
   ],
   "source": [
    "print(\"pandas: \" + pd.__version__)\n",
    "print(\"numpy: \" + np.__version__)\n",
    "print(\"tensorflow: \" + tf.__version__)"
   ]
  },
  {
   "cell_type": "code",
   "execution_count": 3,
   "metadata": {},
   "outputs": [],
   "source": [
    "# uncomment to download the train set\n",
    "# !kaggle competitions download -c digit-recognizer\n",
    "# then unzip the file"
   ]
  },
  {
   "cell_type": "markdown",
   "metadata": {},
   "source": [
    "### Data Cleaning"
   ]
  },
  {
   "cell_type": "markdown",
   "metadata": {},
   "source": [
    "The images are stored in csv files and have to be reshaped to represent a 28x28 pixel grayscale image. The labels stand for the ten digits 0-9."
   ]
  },
  {
   "cell_type": "code",
   "execution_count": 4,
   "metadata": {},
   "outputs": [],
   "source": [
    "def load_data():\n",
    "    train = pd.read_csv(\"train.csv\")\n",
    "    test = pd.read_csv(\"test.csv\")\n",
    "    return train, test"
   ]
  },
  {
   "cell_type": "code",
   "execution_count": 5,
   "metadata": {},
   "outputs": [],
   "source": [
    "def split_Xy(df):\n",
    "    y = df[\"label\"]\n",
    "    X = df.drop([\"label\"], axis=1)\n",
    "    return X, y"
   ]
  },
  {
   "cell_type": "code",
   "execution_count": 6,
   "metadata": {},
   "outputs": [],
   "source": [
    "def reshape_X(df):\n",
    "    return df.values.reshape(-1, 28, 28, 1)"
   ]
  },
  {
   "cell_type": "code",
   "execution_count": 7,
   "metadata": {},
   "outputs": [],
   "source": [
    "train, _ = load_data()\n",
    "X_train, y_train = split_Xy(train)\n",
    "X_train = reshape_X(X_train)"
   ]
  },
  {
   "cell_type": "code",
   "execution_count": 8,
   "metadata": {},
   "outputs": [
    {
     "data": {
      "image/png": "[encoded data removed]",
      "text/plain": [
       "<Figure size 432x288 with 1 Axes>"
      ]
     },
     "metadata": {
      "needs_background": "light"
     },
     "output_type": "display_data"
    }
   ],
   "source": [
    "# some examples\n",
    "g = plt.imshow(X_train[0][:, :, 0], cmap=plt.cm.binary)"
   ]
  },
  {
   "cell_type": "markdown",
   "metadata": {},
   "source": [
    "### Creating the model"
   ]
  },
  {
   "cell_type": "markdown",
   "metadata": {},
   "source": [
    "The ResNet model is created and a summary is given:"
   ]
  },
  {
   "cell_type": "code",
   "execution_count": 9,
   "metadata": {},
   "outputs": [],
   "source": [
    "def define_model():\n",
    "    \n",
    "    class ResidualUnit(tf.keras.layers.Layer):\n",
    "        \n",
    "        def __init__(self, filters, strides=1, activation=\"relu\", **kwargs):\n",
    "            super().__init__(**kwargs)\n",
    "            self.activation = tf.keras.activations.get(activation)\n",
    "            self.main_layers = [\n",
    "                tf.keras.layers.Conv2D(filters, 3, strides=strides,\n",
    "                                       padding=\"same\", use_bias=False),\n",
    "                tf.keras.layers.BatchNormalization(),\n",
    "                self.activation,\n",
    "                tf.keras.layers.Conv2D(filters, 3, strides=1,\n",
    "                                       padding=\"same\", use_bias=False),\n",
    "                tf.keras.layers.BatchNormalization()]\n",
    "            \n",
    "            self.skip_layers = []\n",
    "            if strides > 1:\n",
    "                self.skip_layers = [\n",
    "                tf.keras.layers.Conv2D(filters, 1, strides=strides,\n",
    "                                       padding=\"same\", use_bias=False),\n",
    "                tf.keras.layers.BatchNormalization()]\n",
    "                \n",
    "        def call(self, inputs):\n",
    "            Z = inputs\n",
    "            for layer in self.main_layers:\n",
    "                Z = layer(Z)\n",
    "            Z_skip = inputs\n",
    "            for layer in self.skip_layers:\n",
    "                Z_skip = layer(Z_skip)\n",
    "            \n",
    "            return self.activation(Z + Z_skip)\n",
    "    \n",
    "    model = tf.keras.models.Sequential()\n",
    "    model.add(tf.keras.layers.Conv2D(32, 5, strides=2,\n",
    "                                     padding=\"same\", use_bias=False,\n",
    "                                     input_shape=[28, 28, 1]))\n",
    "    model.add(tf.keras.layers.BatchNormalization())\n",
    "    model.add(tf.keras.layers.Activation(\"relu\"))\n",
    "    # model.add(tf.keras.layers.MaxPool2D(pool_size=3, strides=2,\n",
    "    #                                    padding=\"same\"))\n",
    "    \n",
    "    prev_filters = 32\n",
    "    for filters in [32] * 2 + [64] * 2 + [128] * 2 + [256] * 1:\n",
    "        strides = 1 if filters == prev_filters else 2\n",
    "        model.add(ResidualUnit(filters, strides=strides))\n",
    "        prev_filters = filters\n",
    "    \n",
    "    model.add(tf.keras.layers.GlobalAvgPool2D())\n",
    "    model.add(tf.keras.layers.Flatten())\n",
    "    model.add(tf.keras.layers.Dense(10, activation=\"softmax\"))\n",
    "    \n",
    "    return model"
   ]
  },
  {
   "cell_type": "code",
   "execution_count": 10,
   "metadata": {},
   "outputs": [
    {
     "name": "stdout",
     "output_type": "stream",
     "text": [
      "Model: \"sequential\"\n",
      "_________________________________________________________________\n",
      "Layer (type)                 Output Shape              Param #   \n",
      "=================================================================\n",
      "conv2d (Conv2D)              (None, 14, 14, 32)        800       \n",
      "_________________________________________________________________\n",
      "batch_normalization (BatchNo (None, 14, 14, 32)        128       \n",
      "_________________________________________________________________\n",
      "activation (Activation)      (None, 14, 14, 32)        0         \n",
      "_________________________________________________________________\n",
      "residual_unit (ResidualUnit) (None, 14, 14, 32)        18688     \n",
      "_________________________________________________________________\n",
      "residual_unit_1 (ResidualUni (None, 14, 14, 32)        18688     \n",
      "_________________________________________________________________\n",
      "residual_unit_2 (ResidualUni (None, 7, 7, 64)          58112     \n",
      "_________________________________________________________________\n",
      "residual_unit_3 (ResidualUni (None, 7, 7, 64)          74240     \n",
      "_________________________________________________________________\n",
      "residual_unit_4 (ResidualUni (None, 4, 4, 128)         230912    \n",
      "_________________________________________________________________\n",
      "residual_unit_5 (ResidualUni (None, 4, 4, 128)         295936    \n",
      "_________________________________________________________________\n",
      "residual_unit_6 (ResidualUni (None, 2, 2, 256)         920576    \n",
      "_________________________________________________________________\n",
      "global_average_pooling2d (Gl (None, 256)               0         \n",
      "_________________________________________________________________\n",
      "flatten (Flatten)            (None, 256)               0         \n",
      "_________________________________________________________________\n",
      "dense (Dense)                (None, 10)                2570      \n",
      "=================================================================\n",
      "Total params: 1,620,650\n",
      "Trainable params: 1,616,874\n",
      "Non-trainable params: 3,776\n",
      "_________________________________________________________________\n"
     ]
    }
   ],
   "source": [
    "tf.keras.backend.clear_session()\n",
    "\n",
    "define_model().summary()"
   ]
  },
  {
   "cell_type": "markdown",
   "metadata": {},
   "source": [
    "The size of the training set is artificially increased by using data augmentation. This transforms an image slightly (by zooming, shifting, rotating, ...) every time the image is used in the training process."
   ]
  },
  {
   "cell_type": "code",
   "execution_count": 11,
   "metadata": {},
   "outputs": [],
   "source": [
    "test_size = 0.1\n",
    "\n",
    "train_datagen = tf.keras.preprocessing.image.ImageDataGenerator(rescale=1./255,\n",
    "                                                                rotation_range=10,  \n",
    "                                                                shear_range=10,\n",
    "                                                                zoom_range=0.1,\n",
    "                                                                width_shift_range=0.1, \n",
    "                                                                height_shift_range=0.1,\n",
    "                                                                fill_mode=\"constant\",\n",
    "                                                                cval=0.0,\n",
    "                                                                validation_split=test_size)\n",
    "\n",
    "val_datagen = tf.keras.preprocessing.image.ImageDataGenerator(rescale=1./255,                                                            \n",
    "                                                              validation_split=test_size)"
   ]
  },
  {
   "cell_type": "markdown",
   "metadata": {},
   "source": [
    "The model is trained on 90% of the training set using an Adam optimizer with a hypertuned learning rate."
   ]
  },
  {
   "cell_type": "code",
   "execution_count": 19,
   "metadata": {},
   "outputs": [
    {
     "name": "stdout",
     "output_type": "stream",
     "text": [
      "Epoch 1/128\n",
      "74/74 - 7s - loss: 0.4636 - accuracy: 0.8539 - val_loss: 5.2916 - val_accuracy: 0.2160\n",
      "Epoch 2/128\n",
      "74/74 - 7s - loss: 0.0846 - accuracy: 0.9743 - val_loss: 0.5228 - val_accuracy: 0.8486\n",
      "Epoch 3/128\n",
      "74/74 - 7s - loss: 0.0579 - accuracy: 0.9817 - val_loss: 0.8684 - val_accuracy: 0.7788\n",
      "Epoch 4/128\n",
      "74/74 - 7s - loss: 0.0481 - accuracy: 0.9851 - val_loss: 0.0907 - val_accuracy: 0.9745\n",
      "Epoch 5/128\n",
      "74/74 - 7s - loss: 0.0436 - accuracy: 0.9864 - val_loss: 0.0454 - val_accuracy: 0.9864\n",
      "Epoch 6/128\n",
      "74/74 - 7s - loss: 0.0323 - accuracy: 0.9897 - val_loss: 0.0591 - val_accuracy: 0.9831\n",
      "Epoch 7/128\n",
      "74/74 - 7s - loss: 0.0323 - accuracy: 0.9899 - val_loss: 0.0926 - val_accuracy: 0.9714\n",
      "Epoch 8/128\n",
      "74/74 - 7s - loss: 0.0269 - accuracy: 0.9911 - val_loss: 0.0318 - val_accuracy: 0.9893\n",
      "Epoch 9/128\n",
      "74/74 - 7s - loss: 0.0252 - accuracy: 0.9921 - val_loss: 0.0380 - val_accuracy: 0.9876\n",
      "Epoch 10/128\n",
      "74/74 - 7s - loss: 0.0265 - accuracy: 0.9916 - val_loss: 0.0552 - val_accuracy: 0.9838\n",
      "Epoch 11/128\n",
      "74/74 - 7s - loss: 0.0220 - accuracy: 0.9931 - val_loss: 0.0420 - val_accuracy: 0.9869\n",
      "Epoch 12/128\n",
      "74/74 - 7s - loss: 0.0197 - accuracy: 0.9939 - val_loss: 0.0241 - val_accuracy: 0.9933\n",
      "Epoch 13/128\n",
      "74/74 - 7s - loss: 0.0196 - accuracy: 0.9934 - val_loss: 0.0578 - val_accuracy: 0.9845\n",
      "Epoch 14/128\n",
      "74/74 - 7s - loss: 0.0182 - accuracy: 0.9941 - val_loss: 0.0229 - val_accuracy: 0.9936\n",
      "Epoch 15/128\n",
      "74/74 - 7s - loss: 0.0170 - accuracy: 0.9946 - val_loss: 0.0273 - val_accuracy: 0.9929\n",
      "Epoch 16/128\n",
      "74/74 - 7s - loss: 0.0162 - accuracy: 0.9948 - val_loss: 0.0456 - val_accuracy: 0.9881\n",
      "Epoch 17/128\n",
      "74/74 - 7s - loss: 0.0165 - accuracy: 0.9947 - val_loss: 0.0251 - val_accuracy: 0.9931\n",
      "Epoch 18/128\n",
      "74/74 - 7s - loss: 0.0161 - accuracy: 0.9953 - val_loss: 0.0485 - val_accuracy: 0.9852\n",
      "Epoch 19/128\n",
      "74/74 - 7s - loss: 0.0153 - accuracy: 0.9951 - val_loss: 0.0279 - val_accuracy: 0.9914\n",
      "Epoch 20/128\n",
      "74/74 - 7s - loss: 0.0129 - accuracy: 0.9961 - val_loss: 0.0303 - val_accuracy: 0.9902\n",
      "Epoch 21/128\n",
      "74/74 - 7s - loss: 0.0142 - accuracy: 0.9958 - val_loss: 0.0236 - val_accuracy: 0.9912\n",
      "Epoch 22/128\n",
      "74/74 - 7s - loss: 0.0108 - accuracy: 0.9967 - val_loss: 0.0337 - val_accuracy: 0.9914\n",
      "Epoch 23/128\n",
      "74/74 - 7s - loss: 0.0107 - accuracy: 0.9966 - val_loss: 0.0450 - val_accuracy: 0.9874\n",
      "Epoch 24/128\n",
      "74/74 - 7s - loss: 0.0105 - accuracy: 0.9965 - val_loss: 0.0275 - val_accuracy: 0.9917\n",
      "Epoch 25/128\n",
      "74/74 - 7s - loss: 0.0115 - accuracy: 0.9963 - val_loss: 0.0366 - val_accuracy: 0.9881\n",
      "Epoch 26/128\n",
      "74/74 - 7s - loss: 0.0123 - accuracy: 0.9958 - val_loss: 0.0238 - val_accuracy: 0.9931\n",
      "Epoch 27/128\n",
      "74/74 - 7s - loss: 0.0088 - accuracy: 0.9972 - val_loss: 0.0444 - val_accuracy: 0.9871\n",
      "Epoch 28/128\n",
      "74/74 - 7s - loss: 0.0093 - accuracy: 0.9970 - val_loss: 0.0191 - val_accuracy: 0.9933\n",
      "Epoch 29/128\n",
      "74/74 - 7s - loss: 0.0107 - accuracy: 0.9961 - val_loss: 0.0232 - val_accuracy: 0.9919\n",
      "Epoch 30/128\n",
      "74/74 - 7s - loss: 0.0096 - accuracy: 0.9970 - val_loss: 0.0205 - val_accuracy: 0.9950\n",
      "Epoch 31/128\n",
      "74/74 - 7s - loss: 0.0087 - accuracy: 0.9969 - val_loss: 0.0243 - val_accuracy: 0.9929\n",
      "Epoch 32/128\n",
      "74/74 - 7s - loss: 0.0082 - accuracy: 0.9974 - val_loss: 0.0491 - val_accuracy: 0.9850\n",
      "Epoch 33/128\n",
      "74/74 - 7s - loss: 0.0104 - accuracy: 0.9967 - val_loss: 0.0162 - val_accuracy: 0.9943\n",
      "Epoch 34/128\n",
      "74/74 - 7s - loss: 0.0085 - accuracy: 0.9973 - val_loss: 0.0232 - val_accuracy: 0.9926\n",
      "Epoch 35/128\n",
      "74/74 - 7s - loss: 0.0080 - accuracy: 0.9978 - val_loss: 0.0228 - val_accuracy: 0.9929\n",
      "Epoch 36/128\n",
      "74/74 - 7s - loss: 0.0085 - accuracy: 0.9974 - val_loss: 0.0232 - val_accuracy: 0.9938\n",
      "Epoch 37/128\n",
      "74/74 - 7s - loss: 0.0081 - accuracy: 0.9971 - val_loss: 0.0169 - val_accuracy: 0.9950\n",
      "Epoch 38/128\n",
      "74/74 - 7s - loss: 0.0074 - accuracy: 0.9976 - val_loss: 0.0174 - val_accuracy: 0.9926\n",
      "Epoch 39/128\n",
      "74/74 - 7s - loss: 0.0070 - accuracy: 0.9980 - val_loss: 0.0269 - val_accuracy: 0.9933\n",
      "Epoch 40/128\n",
      "74/74 - 7s - loss: 0.0064 - accuracy: 0.9978 - val_loss: 0.0187 - val_accuracy: 0.9940\n",
      "Epoch 41/128\n",
      "74/74 - 7s - loss: 0.0077 - accuracy: 0.9978 - val_loss: 0.0239 - val_accuracy: 0.9936\n",
      "Epoch 42/128\n",
      "74/74 - 7s - loss: 0.0068 - accuracy: 0.9978 - val_loss: 0.0236 - val_accuracy: 0.9936\n",
      "Epoch 43/128\n",
      "74/74 - 7s - loss: 0.0062 - accuracy: 0.9982 - val_loss: 0.0198 - val_accuracy: 0.9948\n",
      "Epoch 44/128\n",
      "74/74 - 7s - loss: 0.0058 - accuracy: 0.9983 - val_loss: 0.0234 - val_accuracy: 0.9936\n",
      "Epoch 45/128\n",
      "74/74 - 7s - loss: 0.0071 - accuracy: 0.9979 - val_loss: 0.0210 - val_accuracy: 0.9936\n",
      "Epoch 46/128\n",
      "74/74 - 7s - loss: 0.0066 - accuracy: 0.9978 - val_loss: 0.0251 - val_accuracy: 0.9936\n",
      "Epoch 47/128\n",
      "74/74 - 7s - loss: 0.0051 - accuracy: 0.9983 - val_loss: 0.0327 - val_accuracy: 0.9914\n",
      "Epoch 48/128\n",
      "74/74 - 7s - loss: 0.0060 - accuracy: 0.9983 - val_loss: 0.0235 - val_accuracy: 0.9931\n",
      "Epoch 49/128\n",
      "74/74 - 7s - loss: 0.0064 - accuracy: 0.9980 - val_loss: 0.0227 - val_accuracy: 0.9938\n",
      "Epoch 50/128\n",
      "74/74 - 7s - loss: 0.0057 - accuracy: 0.9982 - val_loss: 0.0186 - val_accuracy: 0.9952\n",
      "Epoch 51/128\n",
      "74/74 - 7s - loss: 0.0056 - accuracy: 0.9980 - val_loss: 0.0202 - val_accuracy: 0.9943\n",
      "Epoch 52/128\n",
      "74/74 - 7s - loss: 0.0053 - accuracy: 0.9980 - val_loss: 0.0224 - val_accuracy: 0.9950\n",
      "Epoch 53/128\n",
      "74/74 - 7s - loss: 0.0056 - accuracy: 0.9982 - val_loss: 0.0197 - val_accuracy: 0.9938\n",
      "Epoch 54/128\n",
      "74/74 - 7s - loss: 0.0055 - accuracy: 0.9981 - val_loss: 0.0321 - val_accuracy: 0.9898\n",
      "Epoch 55/128\n",
      "74/74 - 7s - loss: 0.0037 - accuracy: 0.9990 - val_loss: 0.0172 - val_accuracy: 0.9938\n",
      "Epoch 56/128\n",
      "74/74 - 7s - loss: 0.0038 - accuracy: 0.9989 - val_loss: 0.0227 - val_accuracy: 0.9931\n",
      "Epoch 57/128\n",
      "74/74 - 7s - loss: 0.0056 - accuracy: 0.9980 - val_loss: 0.0198 - val_accuracy: 0.9940\n",
      "Epoch 58/128\n",
      "74/74 - 7s - loss: 0.0047 - accuracy: 0.9985 - val_loss: 0.0273 - val_accuracy: 0.9933\n",
      "Epoch 59/128\n",
      "74/74 - 7s - loss: 0.0045 - accuracy: 0.9987 - val_loss: 0.0264 - val_accuracy: 0.9929\n",
      "Epoch 60/128\n",
      "74/74 - 7s - loss: 0.0044 - accuracy: 0.9986 - val_loss: 0.0203 - val_accuracy: 0.9948\n",
      "Epoch 61/128\n",
      "74/74 - 7s - loss: 0.0046 - accuracy: 0.9984 - val_loss: 0.0193 - val_accuracy: 0.9948\n",
      "Epoch 62/128\n",
      "74/74 - 7s - loss: 0.0051 - accuracy: 0.9984 - val_loss: 0.0304 - val_accuracy: 0.9914\n",
      "Epoch 63/128\n",
      "74/74 - 7s - loss: 0.0038 - accuracy: 0.9988 - val_loss: 0.0164 - val_accuracy: 0.9955\n",
      "Epoch 64/128\n",
      "74/74 - 7s - loss: 0.0037 - accuracy: 0.9988 - val_loss: 0.0178 - val_accuracy: 0.9931\n",
      "Epoch 65/128\n",
      "74/74 - 7s - loss: 0.0057 - accuracy: 0.9981 - val_loss: 0.0247 - val_accuracy: 0.9929\n",
      "Epoch 66/128\n",
      "74/74 - 7s - loss: 0.0047 - accuracy: 0.9986 - val_loss: 0.0259 - val_accuracy: 0.9931\n",
      "Epoch 67/128\n",
      "74/74 - 7s - loss: 0.0043 - accuracy: 0.9986 - val_loss: 0.0237 - val_accuracy: 0.9933\n",
      "Epoch 68/128\n",
      "74/74 - 7s - loss: 0.0043 - accuracy: 0.9988 - val_loss: 0.0193 - val_accuracy: 0.9948\n",
      "Epoch 69/128\n",
      "74/74 - 7s - loss: 0.0031 - accuracy: 0.9990 - val_loss: 0.0234 - val_accuracy: 0.9929\n",
      "Epoch 70/128\n",
      "74/74 - 7s - loss: 0.0036 - accuracy: 0.9989 - val_loss: 0.0147 - val_accuracy: 0.9957\n",
      "Epoch 71/128\n",
      "74/74 - 7s - loss: 0.0039 - accuracy: 0.9985 - val_loss: 0.0196 - val_accuracy: 0.9936\n",
      "Epoch 72/128\n",
      "74/74 - 7s - loss: 0.0037 - accuracy: 0.9987 - val_loss: 0.0201 - val_accuracy: 0.9948\n",
      "Epoch 73/128\n",
      "74/74 - 7s - loss: 0.0025 - accuracy: 0.9993 - val_loss: 0.0219 - val_accuracy: 0.9929\n",
      "Epoch 74/128\n",
      "74/74 - 7s - loss: 0.0043 - accuracy: 0.9987 - val_loss: 0.0188 - val_accuracy: 0.9948\n",
      "Epoch 75/128\n",
      "74/74 - 7s - loss: 0.0034 - accuracy: 0.9990 - val_loss: 0.0188 - val_accuracy: 0.9945\n",
      "Epoch 76/128\n",
      "74/74 - 7s - loss: 0.0030 - accuracy: 0.9990 - val_loss: 0.0273 - val_accuracy: 0.9929\n",
      "Epoch 77/128\n",
      "74/74 - 7s - loss: 0.0037 - accuracy: 0.9987 - val_loss: 0.0287 - val_accuracy: 0.9931\n",
      "Epoch 78/128\n",
      "74/74 - 7s - loss: 0.0029 - accuracy: 0.9990 - val_loss: 0.0255 - val_accuracy: 0.9931\n",
      "Epoch 79/128\n",
      "74/74 - 7s - loss: 0.0026 - accuracy: 0.9990 - val_loss: 0.0212 - val_accuracy: 0.9938\n",
      "Epoch 80/128\n",
      "74/74 - 7s - loss: 0.0039 - accuracy: 0.9987 - val_loss: 0.0222 - val_accuracy: 0.9940\n",
      "Epoch 81/128\n",
      "74/74 - 7s - loss: 0.0029 - accuracy: 0.9990 - val_loss: 0.0256 - val_accuracy: 0.9943\n",
      "Epoch 82/128\n",
      "74/74 - 7s - loss: 0.0037 - accuracy: 0.9987 - val_loss: 0.0286 - val_accuracy: 0.9929\n",
      "Epoch 83/128\n"
     ]
    },
    {
     "name": "stdout",
     "output_type": "stream",
     "text": [
      "74/74 - 7s - loss: 0.0035 - accuracy: 0.9989 - val_loss: 0.0267 - val_accuracy: 0.9924\n",
      "Epoch 84/128\n",
      "74/74 - 7s - loss: 0.0033 - accuracy: 0.9989 - val_loss: 0.0238 - val_accuracy: 0.9919\n",
      "Epoch 85/128\n",
      "74/74 - 7s - loss: 0.0032 - accuracy: 0.9990 - val_loss: 0.0217 - val_accuracy: 0.9943\n",
      "Epoch 86/128\n",
      "74/74 - 7s - loss: 0.0027 - accuracy: 0.9990 - val_loss: 0.0172 - val_accuracy: 0.9948\n",
      "Epoch 87/128\n",
      "74/74 - 7s - loss: 0.0028 - accuracy: 0.9991 - val_loss: 0.0205 - val_accuracy: 0.9940\n",
      "Epoch 88/128\n",
      "74/74 - 7s - loss: 0.0029 - accuracy: 0.9991 - val_loss: 0.0213 - val_accuracy: 0.9955\n",
      "Epoch 89/128\n",
      "74/74 - 7s - loss: 0.0027 - accuracy: 0.9990 - val_loss: 0.0203 - val_accuracy: 0.9957\n",
      "Epoch 90/128\n",
      "74/74 - 7s - loss: 0.0025 - accuracy: 0.9992 - val_loss: 0.0210 - val_accuracy: 0.9940\n",
      "Epoch 91/128\n",
      "74/74 - 7s - loss: 0.0027 - accuracy: 0.9991 - val_loss: 0.0205 - val_accuracy: 0.9948\n",
      "Epoch 92/128\n",
      "74/74 - 7s - loss: 0.0026 - accuracy: 0.9990 - val_loss: 0.0198 - val_accuracy: 0.9943\n",
      "Epoch 93/128\n",
      "74/74 - 7s - loss: 0.0024 - accuracy: 0.9992 - val_loss: 0.0190 - val_accuracy: 0.9931\n",
      "Epoch 94/128\n",
      "74/74 - 7s - loss: 0.0027 - accuracy: 0.9992 - val_loss: 0.0217 - val_accuracy: 0.9938\n",
      "Epoch 95/128\n",
      "74/74 - 7s - loss: 0.0021 - accuracy: 0.9993 - val_loss: 0.0177 - val_accuracy: 0.9943\n",
      "Epoch 96/128\n",
      "74/74 - 7s - loss: 0.0020 - accuracy: 0.9994 - val_loss: 0.0274 - val_accuracy: 0.9924\n",
      "Epoch 97/128\n",
      "74/74 - 7s - loss: 0.0022 - accuracy: 0.9992 - val_loss: 0.0263 - val_accuracy: 0.9940\n",
      "Epoch 98/128\n",
      "74/74 - 7s - loss: 0.0029 - accuracy: 0.9990 - val_loss: 0.0214 - val_accuracy: 0.9952\n",
      "Epoch 99/128\n",
      "74/74 - 7s - loss: 0.0025 - accuracy: 0.9992 - val_loss: 0.0185 - val_accuracy: 0.9948\n",
      "Epoch 100/128\n",
      "74/74 - 7s - loss: 0.0019 - accuracy: 0.9992 - val_loss: 0.0174 - val_accuracy: 0.9957\n",
      "Epoch 101/128\n",
      "74/74 - 7s - loss: 0.0020 - accuracy: 0.9994 - val_loss: 0.0286 - val_accuracy: 0.9919\n",
      "Epoch 102/128\n",
      "74/74 - 7s - loss: 0.0031 - accuracy: 0.9989 - val_loss: 0.0199 - val_accuracy: 0.9950\n",
      "Epoch 103/128\n",
      "74/74 - 7s - loss: 0.0020 - accuracy: 0.9992 - val_loss: 0.0221 - val_accuracy: 0.9948\n",
      "Epoch 104/128\n",
      "74/74 - 7s - loss: 0.0021 - accuracy: 0.9993 - val_loss: 0.0217 - val_accuracy: 0.9936\n",
      "Epoch 105/128\n",
      "74/74 - 7s - loss: 0.0035 - accuracy: 0.9987 - val_loss: 0.0248 - val_accuracy: 0.9938\n",
      "Epoch 106/128\n",
      "74/74 - 7s - loss: 0.0024 - accuracy: 0.9991 - val_loss: 0.0238 - val_accuracy: 0.9943\n",
      "Epoch 107/128\n",
      "74/74 - 7s - loss: 0.0019 - accuracy: 0.9993 - val_loss: 0.0298 - val_accuracy: 0.9931\n",
      "Epoch 108/128\n",
      "74/74 - 7s - loss: 0.0023 - accuracy: 0.9993 - val_loss: 0.0292 - val_accuracy: 0.9919\n",
      "Epoch 109/128\n",
      "74/74 - 7s - loss: 0.0022 - accuracy: 0.9994 - val_loss: 0.0265 - val_accuracy: 0.9943\n",
      "Epoch 110/128\n",
      "74/74 - 7s - loss: 0.0021 - accuracy: 0.9994 - val_loss: 0.0252 - val_accuracy: 0.9936\n",
      "Epoch 111/128\n",
      "74/74 - 7s - loss: 0.0014 - accuracy: 0.9996 - val_loss: 0.0210 - val_accuracy: 0.9955\n",
      "Epoch 112/128\n",
      "74/74 - 7s - loss: 0.0019 - accuracy: 0.9992 - val_loss: 0.0365 - val_accuracy: 0.9910\n",
      "Epoch 113/128\n",
      "74/74 - 7s - loss: 0.0024 - accuracy: 0.9993 - val_loss: 0.0220 - val_accuracy: 0.9943\n",
      "Epoch 114/128\n",
      "74/74 - 7s - loss: 0.0027 - accuracy: 0.9990 - val_loss: 0.0234 - val_accuracy: 0.9945\n",
      "Epoch 115/128\n",
      "74/74 - 7s - loss: 0.0019 - accuracy: 0.9994 - val_loss: 0.0286 - val_accuracy: 0.9945\n",
      "Epoch 116/128\n",
      "74/74 - 7s - loss: 0.0016 - accuracy: 0.9995 - val_loss: 0.0237 - val_accuracy: 0.9943\n",
      "Epoch 117/128\n",
      "74/74 - 7s - loss: 0.0018 - accuracy: 0.9993 - val_loss: 0.0230 - val_accuracy: 0.9940\n",
      "Epoch 118/128\n",
      "74/74 - 7s - loss: 0.0017 - accuracy: 0.9995 - val_loss: 0.0277 - val_accuracy: 0.9929\n",
      "Epoch 119/128\n",
      "74/74 - 7s - loss: 0.0020 - accuracy: 0.9993 - val_loss: 0.0224 - val_accuracy: 0.9931\n",
      "Epoch 120/128\n",
      "74/74 - 7s - loss: 0.0019 - accuracy: 0.9994 - val_loss: 0.0191 - val_accuracy: 0.9950\n",
      "Epoch 121/128\n",
      "74/74 - 7s - loss: 0.0018 - accuracy: 0.9994 - val_loss: 0.0214 - val_accuracy: 0.9945\n",
      "Epoch 122/128\n",
      "74/74 - 7s - loss: 0.0021 - accuracy: 0.9993 - val_loss: 0.0244 - val_accuracy: 0.9945\n",
      "Epoch 123/128\n",
      "74/74 - 7s - loss: 0.0019 - accuracy: 0.9993 - val_loss: 0.0200 - val_accuracy: 0.9952\n",
      "Epoch 124/128\n",
      "74/74 - 7s - loss: 0.0013 - accuracy: 0.9996 - val_loss: 0.0223 - val_accuracy: 0.9936\n",
      "Epoch 125/128\n",
      "74/74 - 7s - loss: 0.0014 - accuracy: 0.9996 - val_loss: 0.0200 - val_accuracy: 0.9957\n",
      "Epoch 126/128\n",
      "74/74 - 7s - loss: 0.0014 - accuracy: 0.9997 - val_loss: 0.0225 - val_accuracy: 0.9945\n",
      "Epoch 127/128\n",
      "74/74 - 7s - loss: 0.0014 - accuracy: 0.9995 - val_loss: 0.0162 - val_accuracy: 0.9962\n",
      "Epoch 128/128\n",
      "74/74 - 7s - loss: 0.0017 - accuracy: 0.9994 - val_loss: 0.0225 - val_accuracy: 0.9938\n"
     ]
    }
   ],
   "source": [
    "num_epochs = 128\n",
    "batch_size = 512\n",
    "random_state = 3\n",
    "batches_per_epoch = len(X_train) * (1 - test_size) // batch_size\n",
    "lr = 1e-2\n",
    "lr_decay = (1. / 0.75 - 1) / batches_per_epoch\n",
    "\n",
    "\n",
    "tf.keras.backend.clear_session()\n",
    "\n",
    "model = define_model()\n",
    "\n",
    "optimizer = tf.keras.optimizers.Adam(lr=lr, decay=lr_decay)\n",
    "\n",
    "model.compile(optimizer=optimizer, loss=\"sparse_categorical_crossentropy\", metrics=[\"accuracy\"])\n",
    "\n",
    "history = model.fit(train_datagen.flow(X_train, y_train, batch_size=batch_size, subset=\"training\", seed=random_state),\n",
    "                    validation_data=val_datagen.flow(X_train, y_train, subset=\"validation\", seed=random_state),\n",
    "                    epochs=num_epochs, verbose=2)"
   ]
  },
  {
   "cell_type": "code",
   "execution_count": 20,
   "metadata": {},
   "outputs": [
    {
     "data": {
      "image/png": "[encoded data removed]",
      "text/plain": [
       "<Figure size 432x288 with 2 Axes>"
      ]
     },
     "metadata": {
      "needs_background": "light"
     },
     "output_type": "display_data"
    }
   ],
   "source": [
    "# plot training and validation loss and accuracy\n",
    "fig, ax = plt.subplots(2,1)\n",
    "ax[0].plot(history.history['loss'], color='b', label=\"Training loss\")\n",
    "ax[0].plot(history.history['val_loss'], color='r', label=\"Validation loss\", axes=ax[0])\n",
    "legend = ax[0].legend(loc='best', shadow=True)\n",
    "\n",
    "ax[1].plot(history.history['accuracy'], color='b', label=\"Training accuracy\")\n",
    "ax[1].plot(history.history['val_accuracy'], color='r',label=\"Validation accuracy\")\n",
    "legend = ax[1].legend(loc='best', shadow=True)"
   ]
  },
  {
   "cell_type": "code",
   "execution_count": 21,
   "metadata": {},
   "outputs": [
    {
     "data": {
      "image/png": "[encoded data removed]",
      "text/plain": [
       "<Figure size 432x288 with 2 Axes>"
      ]
     },
     "metadata": {
      "needs_background": "light"
     },
     "output_type": "display_data"
    }
   ],
   "source": [
    "# exclude the first 32 instances to improve the plots\n",
    "fig, ax = plt.subplots(2,1)\n",
    "ax[0].plot(history.history['loss'][32:], color='b', label=\"Training loss\")\n",
    "ax[0].plot(history.history['val_loss'][32:], color='r', label=\"Validation loss\", axes=ax[0])\n",
    "legend = ax[0].legend(loc='best', shadow=True)\n",
    "\n",
    "ax[1].plot(history.history['accuracy'][32:], color='b', label=\"Training accuracy\")\n",
    "ax[1].plot(history.history['val_accuracy'][32:], color='r',label=\"Validation accuracy\")\n",
    "legend = ax[1].legend(loc='best', shadow=True)"
   ]
  },
  {
   "cell_type": "markdown",
   "metadata": {},
   "source": [
    "### Making predictions"
   ]
  },
  {
   "cell_type": "markdown",
   "metadata": {},
   "source": [
    "The model is then trained on the whole training set to further improve it. Then predictions are made on the test set and submitted to Kaggle"
   ]
  },
  {
   "cell_type": "code",
   "execution_count": 22,
   "metadata": {},
   "outputs": [
    {
     "name": "stdout",
     "output_type": "stream",
     "text": [
      "Epoch 1/32\n",
      "83/83 - 8s - loss: 0.0040 - accuracy: 0.9989\n",
      "Epoch 2/32\n",
      "83/83 - 7s - loss: 0.0035 - accuracy: 0.9990\n",
      "Epoch 3/32\n",
      "83/83 - 7s - loss: 0.0028 - accuracy: 0.9989\n",
      "Epoch 4/32\n",
      "83/83 - 7s - loss: 0.0030 - accuracy: 0.9989\n",
      "Epoch 5/32\n",
      "83/83 - 7s - loss: 0.0039 - accuracy: 0.9990\n",
      "Epoch 6/32\n",
      "83/83 - 7s - loss: 0.0032 - accuracy: 0.9991\n",
      "Epoch 7/32\n",
      "83/83 - 7s - loss: 0.0025 - accuracy: 0.9991\n",
      "Epoch 8/32\n",
      "83/83 - 7s - loss: 0.0031 - accuracy: 0.9989\n",
      "Epoch 9/32\n",
      "83/83 - 7s - loss: 0.0021 - accuracy: 0.9993\n",
      "Epoch 10/32\n",
      "83/83 - 7s - loss: 0.0032 - accuracy: 0.9989\n",
      "Epoch 11/32\n",
      "83/83 - 7s - loss: 0.0044 - accuracy: 0.9987\n",
      "Epoch 12/32\n",
      "83/83 - 7s - loss: 0.0112 - accuracy: 0.9971\n",
      "Epoch 13/32\n",
      "83/83 - 7s - loss: 0.0036 - accuracy: 0.9990\n",
      "Epoch 14/32\n",
      "83/83 - 7s - loss: 0.0065 - accuracy: 0.9980\n",
      "Epoch 15/32\n",
      "83/83 - 8s - loss: 0.0071 - accuracy: 0.9979\n",
      "Epoch 16/32\n",
      "83/83 - 7s - loss: 0.0035 - accuracy: 0.9989\n",
      "Epoch 17/32\n",
      "83/83 - 7s - loss: 0.0020 - accuracy: 0.9995\n",
      "Epoch 18/32\n",
      "83/83 - 7s - loss: 0.0016 - accuracy: 0.9994\n",
      "Epoch 19/32\n",
      "83/83 - 7s - loss: 0.0025 - accuracy: 0.9991\n",
      "Epoch 20/32\n",
      "83/83 - 7s - loss: 0.0041 - accuracy: 0.9985\n",
      "Epoch 21/32\n",
      "83/83 - 7s - loss: 0.0020 - accuracy: 0.9993\n",
      "Epoch 22/32\n",
      "83/83 - 7s - loss: 0.0025 - accuracy: 0.9990\n",
      "Epoch 23/32\n",
      "83/83 - 7s - loss: 0.0023 - accuracy: 0.9994\n",
      "Epoch 24/32\n",
      "83/83 - 7s - loss: 0.0023 - accuracy: 0.9992\n",
      "Epoch 25/32\n",
      "83/83 - 7s - loss: 0.0042 - accuracy: 0.9985\n",
      "Epoch 26/32\n",
      "83/83 - 7s - loss: 0.0018 - accuracy: 0.9994\n",
      "Epoch 27/32\n",
      "83/83 - 7s - loss: 0.0021 - accuracy: 0.9994\n",
      "Epoch 28/32\n",
      "83/83 - 7s - loss: 0.0018 - accuracy: 0.9994\n",
      "Epoch 29/32\n",
      "83/83 - 7s - loss: 0.0022 - accuracy: 0.9994\n",
      "Epoch 30/32\n",
      "83/83 - 7s - loss: 0.0026 - accuracy: 0.9991\n",
      "Epoch 31/32\n",
      "83/83 - 7s - loss: 0.0018 - accuracy: 0.9994\n",
      "Epoch 32/32\n",
      "83/83 - 7s - loss: 0.0039 - accuracy: 0.9988\n"
     ]
    },
    {
     "data": {
      "text/plain": [
       "<tensorflow.python.keras.callbacks.History at 0x1e9134316d8>"
      ]
     },
     "execution_count": 22,
     "metadata": {},
     "output_type": "execute_result"
    }
   ],
   "source": [
    "model.fit(train_datagen.flow(X_train, y_train, batch_size=batch_size),\n",
    "          epochs=32, verbose=2)"
   ]
  },
  {
   "cell_type": "code",
   "execution_count": 23,
   "metadata": {},
   "outputs": [],
   "source": [
    "_, test = load_data()\n",
    "X_test = reshape_X(test)\n",
    "\n",
    "results = model.predict(val_datagen.flow(X_test, shuffle=False))\n",
    "\n",
    "results = np.argmax(results, axis=1)\n",
    "\n",
    "results = pd.Series(results, name=\"Label\")"
   ]
  },
  {
   "cell_type": "code",
   "execution_count": 24,
   "metadata": {},
   "outputs": [],
   "source": [
    "submission = pd.concat([pd.Series(range(1,28001), name=\"ImageId\"), results], axis = 1)\n",
    "\n",
    "submission.to_csv(\"submission.csv\",index=False)"
   ]
  },
  {
   "cell_type": "code",
   "execution_count": 25,
   "metadata": {},
   "outputs": [
    {
     "name": "stdout",
     "output_type": "stream",
     "text": [
      "Successfully submitted to Digit Recognizer\n"
     ]
    },
    {
     "name": "stderr",
     "output_type": "stream",
     "text": [
      "\n",
      "  0%|          | 0.00/235k [00:00<?, ?B/s]\n",
      "  3%|3         | 8.00k/235k [00:00<00:03, 70.5kB/s]\n",
      "100%|##########| 235k/235k [00:02<00:00, 80.7kB/s] \n"
     ]
    }
   ],
   "source": [
    "# uncomment to commit\n",
    "#!kaggle competitions submit -c digit-recognizer -f submission.csv -m \"add submission details\""
   ]
  },
  {
   "cell_type": "markdown",
   "metadata": {},
   "source": [
    "This yields a 99.47% accuracy on the test set."
   ]
  }
 ],
 "metadata": {
  "kernelspec": {
   "display_name": "mnist",
   "language": "python",
   "name": "mnist"
  },
  "language_info": {
   "codemirror_mode": {
    "name": "ipython",
    "version": 3
   },
   "file_extension": ".py",
   "mimetype": "text/x-python",
   "name": "python",
   "nbconvert_exporter": "python",
   "pygments_lexer": "ipython3",
   "version": "3.7.0"
  }
 },
 "nbformat": 4,
 "nbformat_minor": 2
}
